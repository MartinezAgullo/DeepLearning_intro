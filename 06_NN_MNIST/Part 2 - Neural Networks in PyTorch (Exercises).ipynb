{
 "cells": [
  {
   "cell_type": "markdown",
   "metadata": {},
   "source": [
    "# Neural networks with PyTorch\n",
    "\n",
    "Deep learning networks tend to be massive with dozens or hundreds of layers, that's where the term \"deep\" comes from. You can build one of these deep networks using only weight matrices as we did in the previous notebook, but in general it's very cumbersome and difficult to implement. PyTorch has a nice module `nn` that provides a nice way to efficiently build large neural networks."
   ]
  },
  {
   "cell_type": "code",
   "execution_count": 21,
   "metadata": {
    "tags": []
   },
   "outputs": [
    {
     "name": "stdout",
     "output_type": "stream",
     "text": [
      "Channels:\n",
      " - pytorch\n",
      " - defaults\n",
      "Platform: osx-arm64\n",
      "Collecting package metadata (repodata.json): done\n",
      "Solving environment: done\n",
      "\n",
      "# All requested packages already installed.\n",
      "\n",
      "\n",
      "Note: you may need to restart the kernel to use updated packages.\n"
     ]
    }
   ],
   "source": [
    "conda install pytorch torchvision torchaudio -c pytorch # first intall package\n"
   ]
  },
  {
   "cell_type": "code",
   "execution_count": 22,
   "metadata": {
    "tags": []
   },
   "outputs": [],
   "source": [
    "# Import necessary packages\n",
    "\n",
    "%matplotlib inline\n",
    "%config InlineBackend.figure_format = 'retina'\n",
    "\n",
    "import numpy as np\n",
    "import torch\n",
    "\n",
    "import helper\n",
    "\n",
    "import matplotlib.pyplot as plt"
   ]
  },
  {
   "cell_type": "markdown",
   "metadata": {},
   "source": [
    "\n",
    "Now we're going to build a larger network that can solve a (formerly) difficult problem, identifying text in an image. Here we'll use the MNIST dataset which consists of greyscale handwritten digits. Each image is 28x28 pixels, you can see a sample below\n",
    "\n",
    "<img src='assets/mnist.png'>\n",
    "\n",
    "Our goal is to build a neural network that can take one of these images and predict the digit in the image.\n",
    "\n",
    "First up, we need to get our dataset. This is provided through the `torchvision` package. The code below will download the MNIST dataset, then create training and test datasets for us. Don't worry too much about the details here, you'll learn more about this later."
   ]
  },
  {
   "cell_type": "code",
   "execution_count": 25,
   "metadata": {
    "tags": []
   },
   "outputs": [],
   "source": [
    "# The MNIST datasets are hosted on yann.lecun.com that has moved under CloudFlare protection\n",
    "# Run this script to enable the datasets download\n",
    "# Reference: https://github.com/pytorch/vision/issues/1938\n",
    "\n",
    "from six.moves import urllib\n",
    "opener = urllib.request.build_opener()\n",
    "opener.addheaders = [('User-agent', 'Mozilla/5.0')]\n",
    "urllib.request.install_opener(opener)"
   ]
  },
  {
   "cell_type": "code",
   "execution_count": 15,
   "metadata": {
    "tags": []
   },
   "outputs": [],
   "source": [
    "### Run this cell\n",
    "\n",
    "from torchvision import datasets, transforms\n",
    "#torchvision already has MNIST_data\n",
    "\n",
    "# Define a transform to normalize the data\n",
    "transform = transforms.Compose([transforms.ToTensor(),\n",
    "                              transforms.Normalize((0.5,), (0.5,)),\n",
    "                              ])\n",
    "\n",
    "# Download and load the training data\n",
    "trainset = datasets.MNIST('~/.pytorch/MNIST_data/', download=True, train=True, transform=transform)\n",
    "trainloader = torch.utils.data.DataLoader(trainset, batch_size=64, shuffle=True)\n",
    "\n",
    "# batch_size=64 <-- Number of images used in each epoch"
   ]
  },
  {
   "cell_type": "markdown",
   "metadata": {},
   "source": [
    "We have the training data loaded into `trainloader` and we make that an iterator with `iter(trainloader)`. Later, we'll use this to loop through the dataset for training, like\n",
    "\n",
    "```python\n",
    "for image, label in trainloader:\n",
    "    ## do things with images and labels\n",
    "```\n",
    "\n",
    "You'll notice I created the `trainloader` with a batch size of 64, and `shuffle=True`. The batch size is the number of images we get in one iteration from the data loader and pass through our network, often called a *batch*. And `shuffle=True` tells it to shuffle the dataset every time we start going through the data loader again. But here I'm just grabbing the first batch so we can check out the data. We can see below that `images` is just a tensor with size `(64, 1, 28, 28)`. So, 64 images per batch, 1 color channel, and 28x28 images."
   ]
  },
  {
   "cell_type": "code",
   "execution_count": 27,
   "metadata": {
    "tags": []
   },
   "outputs": [
    {
     "name": "stdout",
     "output_type": "stream",
     "text": [
      "<class 'torch.Tensor'>\n",
      "torch.Size([64, 1, 28, 28])\n",
      "torch.Size([64])\n"
     ]
    }
   ],
   "source": [
    "dataiter = iter(trainloader)\n",
    "images, labels = next(dataiter)\n",
    "print(type(images))\n",
    "print(images.shape)\n",
    "print(labels.shape)\n",
    "\n",
    "# 64 elements\n",
    "# with 28x28 pixels"
   ]
  },
  {
   "cell_type": "markdown",
   "metadata": {},
   "source": [
    "This is what one of the images looks like. "
   ]
  },
  {
   "cell_type": "code",
   "execution_count": 29,
   "metadata": {
    "tags": []
   },
   "outputs": [
    {
     "data": {
      "image/png": "[encoded data removed]",
      "text/plain": [
       "<Figure size 640x480 with 1 Axes>"
      ]
     },
     "metadata": {
      "image/png": {
       "height": 413,
       "width": 416
      }
     },
     "output_type": "display_data"
    }
   ],
   "source": [
    "plt.imshow(images[1].numpy().squeeze(), cmap='Greys_r');"
   ]
  },
  {
   "cell_type": "markdown",
   "metadata": {},
   "source": [
    "First, let's try to build a simple network for this dataset using weight matrices and matrix multiplications. Then, we'll see how to do it using PyTorch's `nn` module which provides a much more convenient and powerful method for defining network architectures.\n",
    "\n",
    "The networks you've seen so far are called *fully-connected* or *dense* networks. Each unit in one layer is connected to each unit in the next layer. In fully-connected networks, the input to each layer must be a one-dimensional vector (which can be stacked into a 2D tensor as a batch of multiple examples). However, our images are 28x28 2D tensors, so we need to convert them into 1D vectors. Thinking about sizes, we need to convert the batch of images with shape `(64, 1, 28, 28)` to a have a shape of `(64, 784)`, 784 is 28 times 28. This is typically called *flattening*, we flattened the 2D images into 1D vectors.\n",
    "\n",
    "Previously you built a network with one output unit. Here we need 10 output units, one for each digit. We want our network to predict the digit shown in an image, so what we'll do is calculate probabilities that the image is of any one digit or class. This ends up being a discrete probability distribution over the classes (digits) that tells us the most likely class for the image. That means we need 10 output units for the 10 classes (digits). We'll see how to convert the network output into a probability distribution next.\n",
    "\n",
    "> **Exercise:** Flatten the batch of images `images`. Then build a multi-layer network with 784 input units, 256 hidden units, and 10 output units using random tensors for the weights and biases. For now, use a sigmoid activation for the hidden layer. Leave the output layer without an activation, we'll add one that gives us a probability distribution next."
   ]
  },
  {
   "cell_type": "code",
   "execution_count": 65,
   "metadata": {
    "tags": []
   },
   "outputs": [
    {
     "name": "stdout",
     "output_type": "stream",
     "text": [
      "torch.Size([64, 10])\n",
      "tensor([[6.1913e-01, 2.5065e-09, 8.5471e-01, 1.0000e+00, 5.3768e-05, 9.9999e-01,\n",
      "         9.9997e-01, 6.8735e-01, 1.9762e-01, 7.1159e-07],\n",
      "        [8.9766e-01, 5.3351e-05, 8.4199e-05, 1.0000e+00, 9.8500e-01, 1.0000e+00,\n",
      "         9.9613e-01, 4.3593e-02, 1.2063e-04, 2.2320e-06],\n",
      "        [7.3357e-01, 4.6077e-05, 2.4073e-03, 1.0000e+00, 8.7576e-01, 1.0000e+00,\n",
      "         9.9869e-01, 5.6708e-01, 5.9878e-03, 6.3131e-09],\n",
      "        [5.2629e-02, 5.0207e-10, 1.2986e-03, 1.0000e+00, 7.1004e-03, 1.0000e+00,\n",
      "         9.9145e-01, 1.7228e-01, 1.3260e-02, 3.8590e-08],\n",
      "        [1.0000e+00, 2.4894e-04, 3.3635e-02, 9.9999e-01, 3.8595e-06, 1.0000e+00,\n",
      "         9.5724e-03, 9.8729e-01, 9.4372e-05, 6.7508e-08],\n",
      "        [1.9222e-01, 9.6350e-07, 3.2078e-02, 1.0000e+00, 2.6883e-06, 1.0000e+00,\n",
      "         6.9693e-01, 1.4624e-01, 2.0457e-04, 1.9093e-07],\n",
      "        [9.9999e-01, 7.5435e-06, 3.5810e-02, 1.0000e+00, 2.4062e-05, 9.9969e-01,\n",
      "         9.3373e-01, 8.2490e-01, 6.9887e-02, 1.0277e-08],\n",
      "        [1.6333e-02, 3.3301e-07, 5.7662e-01, 9.9997e-01, 2.7606e-02, 1.0000e+00,\n",
      "         8.3688e-01, 1.8799e-02, 1.7911e-06, 3.4431e-04],\n",
      "        [6.2475e-03, 1.1737e-04, 1.7035e-04, 1.0000e+00, 4.9814e-05, 1.0000e+00,\n",
      "         9.5008e-03, 3.9554e-03, 8.0892e-04, 2.9523e-10],\n",
      "        [9.9981e-01, 1.5356e-04, 7.7769e-01, 1.0000e+00, 2.7384e-03, 9.9943e-01,\n",
      "         9.9999e-01, 9.9622e-01, 7.5321e-01, 2.7797e-05],\n",
      "        [9.2923e-01, 1.2871e-09, 3.7954e-05, 9.9903e-01, 5.8271e-01, 1.0000e+00,\n",
      "         1.0145e-01, 5.3698e-02, 7.5459e-07, 2.9359e-05],\n",
      "        [9.9044e-01, 7.9602e-10, 6.2943e-01, 1.0000e+00, 1.6362e-01, 9.9997e-01,\n",
      "         2.1391e-01, 5.3356e-01, 9.3799e-05, 3.2580e-05],\n",
      "        [4.8154e-01, 1.5154e-08, 5.4374e-04, 9.9956e-01, 1.7262e-02, 1.0000e+00,\n",
      "         8.2669e-01, 1.2312e-05, 6.8767e-03, 1.1579e-05],\n",
      "        [1.4477e-01, 9.7128e-05, 2.4521e-02, 1.0000e+00, 4.2588e-03, 9.9998e-01,\n",
      "         9.9537e-01, 4.9442e-01, 1.8345e-04, 2.0658e-07],\n",
      "        [9.9948e-01, 6.8824e-08, 3.0351e-02, 9.9999e-01, 1.8101e-05, 1.0000e+00,\n",
      "         8.9710e-01, 4.9698e-01, 6.3031e-04, 1.7553e-08],\n",
      "        [1.4162e-01, 1.0099e-12, 2.4734e-01, 1.0000e+00, 2.6689e-04, 9.9982e-01,\n",
      "         9.9998e-01, 7.5915e-01, 3.0243e-05, 8.5320e-05],\n",
      "        [9.9991e-01, 2.3284e-07, 9.5108e-01, 9.9811e-01, 5.0849e-05, 9.9996e-01,\n",
      "         1.0000e+00, 9.9875e-01, 9.0393e-05, 1.8917e-07],\n",
      "        [9.9012e-01, 2.6124e-09, 2.4279e-03, 9.4446e-01, 2.1521e-02, 1.0000e+00,\n",
      "         9.9714e-01, 2.3290e-04, 9.9019e-05, 3.2965e-05],\n",
      "        [4.6278e-01, 8.5963e-10, 4.9081e-02, 9.9999e-01, 9.8157e-01, 9.9995e-01,\n",
      "         9.9980e-01, 9.8656e-01, 3.7462e-06, 2.1553e-06],\n",
      "        [2.3131e-03, 1.3879e-05, 9.0635e-04, 1.0000e+00, 1.2560e-01, 1.0000e+00,\n",
      "         7.2169e-01, 6.5471e-03, 9.9624e-01, 9.9625e-13],\n",
      "        [4.3962e-01, 1.3054e-08, 6.3584e-05, 9.9999e-01, 3.7414e-02, 1.0000e+00,\n",
      "         9.6988e-01, 7.0839e-01, 1.6427e-03, 1.3855e-11],\n",
      "        [7.4922e-01, 1.5881e-08, 5.4491e-03, 1.0000e+00, 3.5590e-02, 1.0000e+00,\n",
      "         8.2076e-01, 1.7589e-01, 1.6651e-05, 8.7240e-09],\n",
      "        [9.9999e-01, 1.2123e-07, 4.9328e-02, 9.9999e-01, 7.1890e-06, 9.9990e-01,\n",
      "         1.2058e-01, 8.6500e-01, 1.2015e-03, 3.6959e-07],\n",
      "        [1.0000e+00, 1.8217e-06, 2.5365e-01, 1.0000e+00, 8.0585e-01, 9.9999e-01,\n",
      "         6.8757e-01, 6.5817e-03, 3.7109e-01, 1.1148e-05],\n",
      "        [9.9936e-01, 1.8361e-07, 9.6863e-06, 9.9996e-01, 5.2327e-01, 1.0000e+00,\n",
      "         1.6595e-01, 9.9951e-01, 8.1145e-05, 1.0003e-08],\n",
      "        [8.1472e-01, 6.9929e-07, 2.0731e-04, 1.0000e+00, 4.2667e-03, 1.0000e+00,\n",
      "         9.9999e-01, 9.8809e-01, 6.8781e-04, 3.6775e-04],\n",
      "        [5.7391e-04, 5.0783e-06, 3.1730e-05, 9.9999e-01, 1.6028e-01, 9.9997e-01,\n",
      "         9.9975e-01, 9.9770e-01, 2.8107e-04, 8.0521e-07],\n",
      "        [9.9994e-01, 1.3546e-05, 7.4302e-03, 9.9835e-01, 6.3708e-01, 9.9999e-01,\n",
      "         9.9983e-01, 9.9174e-01, 1.9168e-01, 9.8139e-08],\n",
      "        [1.0000e+00, 8.3024e-06, 7.0453e-02, 1.0000e+00, 5.6264e-03, 9.9651e-01,\n",
      "         9.9290e-01, 9.9972e-01, 3.5005e-01, 4.5150e-09],\n",
      "        [2.5097e-04, 9.2271e-07, 4.4403e-04, 1.0000e+00, 2.3802e-01, 1.0000e+00,\n",
      "         9.9322e-01, 9.5950e-02, 4.9780e-02, 5.8298e-10],\n",
      "        [5.9716e-01, 8.1411e-06, 2.6514e-02, 9.9999e-01, 6.3535e-05, 9.9999e-01,\n",
      "         5.3421e-02, 2.7748e-01, 5.5619e-06, 2.5238e-06],\n",
      "        [9.0018e-01, 2.8232e-05, 1.3316e-02, 1.0000e+00, 3.9401e-02, 9.9999e-01,\n",
      "         1.9566e-03, 3.8211e-03, 7.0640e-08, 2.3296e-06],\n",
      "        [2.0755e-01, 1.5901e-05, 1.5571e-07, 1.0000e+00, 1.1712e-03, 9.9985e-01,\n",
      "         9.8133e-01, 7.5515e-01, 4.7969e-04, 1.4629e-04],\n",
      "        [9.9699e-01, 4.5655e-08, 3.2662e-02, 1.0000e+00, 4.2751e-01, 9.9999e-01,\n",
      "         9.3995e-01, 8.9366e-01, 9.9326e-01, 1.0707e-05],\n",
      "        [1.0000e+00, 1.1140e-05, 1.8871e-01, 1.0000e+00, 1.2088e-04, 9.9999e-01,\n",
      "         5.1195e-01, 9.4388e-01, 1.4987e-01, 2.8354e-08],\n",
      "        [8.5545e-01, 1.7588e-08, 2.7681e-03, 1.0000e+00, 9.3959e-01, 1.0000e+00,\n",
      "         1.0000e+00, 8.2125e-03, 1.6071e-01, 1.4431e-04],\n",
      "        [9.9495e-01, 1.0542e-09, 9.9970e-01, 1.0000e+00, 2.0692e-03, 9.9996e-01,\n",
      "         1.0000e+00, 7.8763e-01, 2.2934e-05, 2.3331e-08],\n",
      "        [2.5259e-01, 3.1269e-06, 4.3223e-06, 1.0000e+00, 2.9269e-01, 9.9408e-01,\n",
      "         1.3812e-01, 9.9858e-01, 2.0880e-04, 6.1023e-06],\n",
      "        [2.9665e-01, 2.0993e-05, 1.2092e-03, 1.0000e+00, 7.4199e-05, 9.9949e-01,\n",
      "         9.8158e-01, 8.3180e-02, 5.4665e-05, 8.5112e-06],\n",
      "        [9.9759e-01, 7.1218e-07, 2.3183e-02, 9.9995e-01, 1.0726e-03, 9.9945e-01,\n",
      "         5.8243e-01, 5.8630e-04, 1.1409e-03, 3.0855e-08],\n",
      "        [8.5680e-01, 7.1426e-09, 2.4782e-01, 9.9995e-01, 6.4910e-08, 1.0000e+00,\n",
      "         3.3536e-01, 1.9842e-01, 1.3562e-05, 4.9712e-07],\n",
      "        [9.9950e-01, 1.3088e-07, 9.5398e-01, 1.0000e+00, 1.4366e-03, 1.0000e+00,\n",
      "         9.4723e-01, 9.8318e-01, 2.2800e-06, 3.2974e-08],\n",
      "        [9.9585e-01, 1.2329e-06, 2.9920e-01, 1.0000e+00, 9.2554e-02, 9.9997e-01,\n",
      "         9.0544e-01, 9.0545e-01, 1.7215e-04, 5.9114e-06],\n",
      "        [9.9997e-01, 1.3854e-07, 9.9998e-01, 1.0000e+00, 4.8742e-04, 1.0000e+00,\n",
      "         2.9500e-01, 7.7148e-01, 1.1795e-03, 4.0890e-03],\n",
      "        [3.8645e-02, 7.4742e-07, 1.9101e-04, 9.9918e-01, 9.7192e-01, 1.0000e+00,\n",
      "         9.9106e-01, 1.5888e-01, 4.2806e-04, 1.3661e-07],\n",
      "        [9.9634e-01, 2.7381e-10, 5.6943e-02, 9.9998e-01, 7.2591e-03, 9.9680e-01,\n",
      "         1.0000e+00, 9.8460e-02, 1.5215e-06, 5.6150e-06],\n",
      "        [9.9939e-01, 4.5601e-07, 4.4697e-03, 1.0000e+00, 1.3451e-06, 9.9996e-01,\n",
      "         1.0000e+00, 3.2453e-03, 2.9323e-03, 2.6623e-04],\n",
      "        [2.6621e-03, 4.7476e-04, 1.4589e-06, 1.0000e+00, 7.3474e-01, 1.0000e+00,\n",
      "         9.9993e-01, 6.8624e-02, 3.6955e-01, 8.6554e-09],\n",
      "        [9.9946e-01, 9.4529e-04, 1.8436e-01, 9.9997e-01, 1.1724e-05, 9.9966e-01,\n",
      "         9.7447e-01, 1.8581e-01, 3.0173e-04, 2.0905e-05],\n",
      "        [3.3074e-04, 9.2160e-05, 2.4426e-01, 9.9998e-01, 9.9969e-01, 1.0000e+00,\n",
      "         9.0193e-01, 1.7273e-01, 5.9569e-03, 2.2563e-03],\n",
      "        [9.9997e-01, 1.4118e-05, 3.2539e-03, 1.0000e+00, 6.0343e-03, 1.0000e+00,\n",
      "         1.0000e+00, 2.3700e-02, 2.8649e-03, 9.1944e-15],\n",
      "        [9.2249e-02, 1.5623e-10, 3.0765e-05, 1.0000e+00, 9.9838e-01, 9.9973e-01,\n",
      "         1.0000e+00, 9.9546e-01, 6.8380e-01, 5.4539e-09],\n",
      "        [2.8906e-01, 3.9939e-05, 1.1019e-02, 1.0000e+00, 9.7616e-01, 1.0000e+00,\n",
      "         2.5863e-01, 5.0999e-01, 1.7928e-03, 4.4989e-08],\n",
      "        [9.1340e-01, 5.3022e-05, 3.9972e-05, 9.9994e-01, 3.4169e-01, 9.9999e-01,\n",
      "         5.3942e-01, 1.0694e-01, 3.7021e-03, 1.9364e-07],\n",
      "        [2.4705e-01, 7.0000e-04, 1.1713e-02, 1.0000e+00, 4.2711e-05, 9.9975e-01,\n",
      "         9.5280e-01, 3.8706e-02, 8.6920e-04, 8.6426e-06],\n",
      "        [1.5239e-01, 5.0000e-10, 8.4810e-01, 1.0000e+00, 1.3118e-03, 9.9988e-01,\n",
      "         9.6088e-01, 5.5389e-01, 2.2691e-06, 1.4249e-06],\n",
      "        [9.9967e-01, 1.5772e-04, 9.1320e-03, 9.7207e-01, 6.5535e-03, 9.9999e-01,\n",
      "         9.8997e-01, 1.4543e-02, 4.8333e-05, 3.5161e-07],\n",
      "        [8.3693e-01, 4.0635e-06, 9.7182e-02, 9.9998e-01, 1.1493e-03, 1.0000e+00,\n",
      "         1.0441e-01, 2.9985e-01, 3.2830e-05, 7.1715e-06],\n",
      "        [9.9637e-01, 2.0522e-07, 4.7728e-01, 9.9999e-01, 9.7617e-01, 1.0000e+00,\n",
      "         5.4243e-01, 1.4969e-01, 1.1105e-02, 2.2239e-05],\n",
      "        [3.3866e-01, 4.9741e-06, 3.3570e-04, 1.0000e+00, 4.8404e-05, 9.9745e-01,\n",
      "         9.9873e-01, 2.5427e-01, 9.1409e-03, 5.2727e-06],\n",
      "        [4.6838e-02, 4.0901e-07, 7.5828e-02, 1.0000e+00, 2.6962e-02, 9.9995e-01,\n",
      "         9.9955e-01, 9.9932e-01, 6.8298e-02, 4.8533e-08],\n",
      "        [9.9991e-01, 1.1720e-06, 5.3091e-01, 9.9983e-01, 1.3244e-03, 9.9999e-01,\n",
      "         3.5936e-01, 3.8504e-01, 4.3426e-04, 4.9002e-08],\n",
      "        [9.9542e-01, 4.4273e-05, 9.0447e-01, 1.0000e+00, 7.5440e-06, 9.9994e-01,\n",
      "         9.9913e-01, 3.7160e-02, 7.0982e-02, 3.0734e-06],\n",
      "        [6.2297e-04, 9.8431e-07, 3.3303e-04, 1.0000e+00, 9.9993e-01, 1.0000e+00,\n",
      "         1.0000e+00, 8.4273e-01, 3.0031e-02, 2.5601e-01]])\n"
     ]
    }
   ],
   "source": [
    "## MY SOLUTION\n",
    "\n",
    "# First: Flattern data\n",
    "#x = images.view(64, 784)\n",
    "#print(x.shape)\n",
    "\n",
    "# Second: Build an NN\n",
    "# out = NN * x\n",
    "# (10,1) = NN * (64,784) --> NN = (10, 784)\n",
    "\n",
    "#neural_network_layer_1 = torch.randn((256, 784))\n",
    "#neural_network_layer_2 = torch.randn((10, 256))\n",
    "#bias_layer1 = torch.randn(256)\n",
    "#bias_layer2 = torch.randn(10)\n",
    "\n",
    "#out_L1 = torch.mm(bias_layer1, x.view(784, 64)) # output of your network, should have shape (64,10)\n",
    "#out_L2 = torch.mm(neural_network_layer_2, out_L1)\n",
    "#print(out.shape) # torch.Size([10, 64])\n",
    "3\n",
    "out.resize_(64,10)\n",
    "#print(out.shape)# torch.Size([64, 10])\n",
    "\n",
    "\n",
    "\n",
    "## PROPOSED SOLUTION\n",
    "\n",
    "#Sigmoid activation function \n",
    "def activation(x):\n",
    "    return 1/(1+torch.exp(-x)) \n",
    "\n",
    "# Flatten the input images\n",
    "inputs = images.view(images.shape[0], -1)\n",
    "# images.shape[0] :: Numer of batches :: 64\n",
    "# -1 :: Chooses the appropiate size to make the total of elements :: 784\n",
    "\n",
    "# Create parameters\n",
    "w1 = torch.randn(784, 256)\n",
    "b1 = torch.randn(256)\n",
    "\n",
    "w2 = torch.randn(256, 10)\n",
    "b2 = torch.randn(10)\n",
    "\n",
    "h = activation(torch.mm(inputs, w1) + b1)\n",
    "\n",
    "out = activation(torch.mm(h, w2) + b2)\n",
    "\n",
    "print(out.shape)\n",
    "print(out)"
   ]
  },
  {
   "cell_type": "markdown",
   "metadata": {},
   "source": [
    "Now we have 10 outputs for our network. We want to pass in an image to our network and get out a probability distribution over the classes that tells us the likely class(es) the image belongs to. Something that looks like this:\n",
    "<img src='assets/image_distribution.png' width=500px>\n",
    "\n",
    "Here we see that the probability for each class is roughly the same. This is representing an untrained network, it hasn't seen any data yet so it just returns a uniform distribution with equal probabilities for each class.\n",
    "\n",
    "To calculate this probability distribution, we often use the [**softmax** function](https://en.wikipedia.org/wiki/Softmax_function). Mathematically this looks like\n",
    "\n",
    "$$\n",
    "\\Large \\sigma(x_i) = \\cfrac{e^{x_i}}{\\sum_k^K{e^{x_k}}}\n",
    "$$\n",
    "\n",
    "What this does is squish each input $x_i$ between 0 and 1 and normalizes the values to give you a proper probability distribution where the probabilites sum up to one.\n",
    "\n",
    "> **Exercise:** Implement a function `softmax` that performs the softmax calculation and returns probability distributions for each example in the batch. Note that you'll need to pay attention to the shapes when doing this. If you have a tensor `a` with shape `(64, 10)` and a tensor `b` with shape `(64,)`, doing `a/b` will give you an error because PyTorch will try to do the division across the columns (called broadcasting) but you'll get a size mismatch. The way to think about this is for each of the 64 examples, you only want to divide by one value, the sum in the denominator. So you need `b` to have a shape of `(64, 1)`. This way PyTorch will divide the 10 values in each row of `a` by the one value in each row of `b`. Pay attention to how you take the sum as well. You'll need to define the `dim` keyword in `torch.sum`. Setting `dim=0` takes the sum across the rows while `dim=1` takes the sum across the columns."
   ]
  },
  {
   "cell_type": "code",
   "execution_count": 70,
   "metadata": {
    "tags": []
   },
   "outputs": [
    {
     "name": "stdout",
     "output_type": "stream",
     "text": [
      "torch.Size([64, 10])\n",
      "tensor([1.0000, 1.0000, 1.0000, 1.0000, 1.0000, 1.0000, 1.0000, 1.0000, 1.0000,\n",
      "        1.0000, 1.0000, 1.0000, 1.0000, 1.0000, 1.0000, 1.0000, 1.0000, 1.0000,\n",
      "        1.0000, 1.0000, 1.0000, 1.0000, 1.0000, 1.0000, 1.0000, 1.0000, 1.0000,\n",
      "        1.0000, 1.0000, 1.0000, 1.0000, 1.0000, 1.0000, 1.0000, 1.0000, 1.0000,\n",
      "        1.0000, 1.0000, 1.0000, 1.0000, 1.0000, 1.0000, 1.0000, 1.0000, 1.0000,\n",
      "        1.0000, 1.0000, 1.0000, 1.0000, 1.0000, 1.0000, 1.0000, 1.0000, 1.0000,\n",
      "        1.0000, 1.0000, 1.0000, 1.0000, 1.0000, 1.0000, 1.0000, 1.0000, 1.0000,\n",
      "        1.0000])\n"
     ]
    }
   ],
   "source": [
    "def softmax(x):\n",
    "    #return np.exp(x)/torch.sum(np.exp(x))\n",
    "    return torch.exp(x)/torch.sum(torch.exp(x), dim=1).view(-1, 1)\n",
    "# dim :: the dimension or dimensions to reduce. If None, all dimensions are reduced. <-- We are takeing the sum across columns\n",
    "\n",
    "\n",
    "# Here, out should be the output of the network in the previous excercise with shape (64,10)\n",
    "probabilities = softmax(out)\n",
    "\n",
    "# Does it have the right shape? Should be (64, 10)\n",
    "print(probabilities.shape)\n",
    "# Does it sum to 1?\n",
    "print(probabilities.sum(dim=1))"
   ]
  },
  {
   "cell_type": "markdown",
   "metadata": {},
   "source": [
    "## Building networks with PyTorch\n",
    "\n",
    "PyTorch provides a module `nn` that makes building networks much simpler. Here I'll show you how to build the same one as above with 784 inputs, 256 hidden units, 10 output units and a softmax output."
   ]
  },
  {
   "cell_type": "code",
   "execution_count": 72,
   "metadata": {
    "collapsed": true,
    "jupyter": {
     "outputs_hidden": true
    },
    "tags": []
   },
   "outputs": [],
   "source": [
    "from torch import nn"
   ]
  },
  {
   "cell_type": "code",
   "execution_count": 74,
   "metadata": {
    "collapsed": true,
    "jupyter": {
     "outputs_hidden": true
    },
    "tags": []
   },
   "outputs": [],
   "source": [
    "class Network(nn.Module):\n",
    "    def __init__(self):\n",
    "        super().__init__()\n",
    "        \n",
    "        # Inputs to hidden layer linear transformation\n",
    "        self.hidden = nn.Linear(784, 256)\n",
    "        # Output layer, 10 units - one for each digit\n",
    "        self.output = nn.Linear(256, 10)\n",
    "        \n",
    "        # Define sigmoid activation and softmax output \n",
    "        self.sigmoid = nn.Sigmoid()\n",
    "        self.softmax = nn.Softmax(dim=1)\n",
    "        \n",
    "    def forward(self, x):\n",
    "        # Pass the input tensor through each of our operations\n",
    "        x = self.hidden(x)\n",
    "        x = self.sigmoid(x)\n",
    "        x = self.output(x)\n",
    "        x = self.softmax(x)\n",
    "        \n",
    "        return x"
   ]
  },
  {
   "cell_type": "markdown",
   "metadata": {},
   "source": [
    "Let's go through this bit by bit.\n",
    "\n",
    "```python\n",
    "class Network(nn.Module):\n",
    "```\n",
    "\n",
    "Here we're inheriting from `nn.Module`. Combined with `super().__init__()` this creates a class that tracks the architecture and provides a lot of useful methods and attributes. It is mandatory to inherit from `nn.Module` when you're creating a class for your network. The name of the class itself can be anything.\n",
    "\n",
    "```python\n",
    "self.hidden = nn.Linear(784, 256)\n",
    "```\n",
    "\n",
    "This line creates a module for a linear transformation, $x\\mathbf{W} + b$, with 784 inputs and 256 outputs and assigns it to `self.hidden`. The module automatically creates the weight and bias tensors which we'll use in the `forward` method. You can access the weight and bias tensors once the network (`net`) is created with `net.hidden.weight` and `net.hidden.bias`.\n",
    "\n",
    "```python\n",
    "self.output = nn.Linear(256, 10)\n",
    "```\n",
    "\n",
    "Similarly, this creates another linear transformation with 256 inputs and 10 outputs.\n",
    "\n",
    "```python\n",
    "self.sigmoid = nn.Sigmoid()\n",
    "self.softmax = nn.Softmax(dim=1)\n",
    "```\n",
    "\n",
    "Here I defined operations for the sigmoid activation and softmax output. Setting `dim=1` in `nn.Softmax(dim=1)` calculates softmax across the columns.\n",
    "\n",
    "```python\n",
    "def forward(self, x):\n",
    "```\n",
    "\n",
    "PyTorch networks created with `nn.Module` must have a `forward` method defined. It takes in a tensor `x` and passes it through the operations you defined in the `__init__` method.\n",
    "\n",
    "```python\n",
    "x = self.hidden(x)\n",
    "x = self.sigmoid(x)\n",
    "x = self.output(x)\n",
    "x = self.softmax(x)\n",
    "```\n",
    "\n",
    "Here the input tensor `x` is passed through each operation and reassigned to `x`. We can see that the input tensor goes through the hidden layer, then a sigmoid function, then the output layer, and finally the softmax function. It doesn't matter what you name the variables here, as long as the inputs and outputs of the operations match the network architecture you want to build. The order in which you define things in the `__init__` method doesn't matter, but you'll need to sequence the operations correctly in the `forward` method.\n",
    "\n",
    "Now we can create a `Network` object."
   ]
  },
  {
   "cell_type": "code",
   "execution_count": 76,
   "metadata": {
    "tags": []
   },
   "outputs": [
    {
     "data": {
      "text/plain": [
       "Network(\n",
       "  (hidden): Linear(in_features=784, out_features=256, bias=True)\n",
       "  (output): Linear(in_features=256, out_features=10, bias=True)\n",
       "  (sigmoid): Sigmoid()\n",
       "  (softmax): Softmax(dim=1)\n",
       ")"
      ]
     },
     "execution_count": 76,
     "metadata": {},
     "output_type": "execute_result"
    }
   ],
   "source": [
    "# Create the network and look at it's text representation\n",
    "model = Network()\n",
    "model"
   ]
  },
  {
   "cell_type": "markdown",
   "metadata": {},
   "source": [
    "You can define the network somewhat more concisely and clearly using the `torch.nn.functional` module. This is the most common way you'll see networks defined as many operations are simple element-wise functions. We normally import this module as `F`, `import torch.nn.functional as F`."
   ]
  },
  {
   "cell_type": "code",
   "execution_count": 80,
   "metadata": {
    "tags": []
   },
   "outputs": [],
   "source": [
    "import torch.nn.functional as F\n",
    "\n",
    "class Network(nn.Module):\n",
    "    def __init__(self):\n",
    "        super().__init__()\n",
    "        # Inputs to hidden layer linear transformation\n",
    "        self.hidden = nn.Linear(784, 256)\n",
    "        # Output layer, 10 units - one for each digit\n",
    "        self.output = nn.Linear(256, 10)\n",
    "        \n",
    "    def forward(self, x):\n",
    "        # Hidden layer with sigmoid activation\n",
    "        x = F.sigmoid(self.hidden(x))\n",
    "        # Output layer with softmax activation\n",
    "        x = F.softmax(self.output(x), dim=1)\n",
    "        \n",
    "        return x"
   ]
  },
  {
   "cell_type": "markdown",
   "metadata": {},
   "source": [
    "### Activation functions\n",
    "\n",
    "So far we've only been looking at the sigmoid activation function, but in general any function can be used as an activation function. The only requirement is that for a network to approximate a non-linear function, the activation functions must be non-linear. Here are a few more examples of common activation functions: Tanh (hyperbolic tangent), and ReLU (rectified linear unit).\n",
    "\n",
    "<img src=\"assets/activation.png\" width=700px>\n",
    "\n",
    "In practice, the ReLU function is used almost exclusively as the activation function for hidden layers."
   ]
  },
  {
   "cell_type": "markdown",
   "metadata": {},
   "source": [
    "### Your Turn to Build a Network\n",
    "\n",
    "<img src=\"assets/mlp_mnist.png\" width=600px>\n",
    "\n",
    "> **Exercise:** Create a network with 784 input units, a hidden layer with 128 units and a ReLU activation, then a hidden layer with 64 units and a ReLU activation, and finally an output layer with a softmax activation as shown above. You can use a ReLU activation with the `nn.ReLU` module or `F.relu` function.\n",
    "\n",
    "It's good practice to name your layers by their type of network, for instance 'fc' to represent a fully-connected layer. As you code your solution, use `fc1`, `fc2`, and `fc3` as your layer names."
   ]
  },
  {
   "cell_type": "code",
   "execution_count": 93,
   "metadata": {
    "scrolled": true,
    "tags": []
   },
   "outputs": [
    {
     "data": {
      "text/plain": [
       "MyNetwork(\n",
       "  (fc1): Linear(in_features=784, out_features=128, bias=True)\n",
       "  (fc2): Linear(in_features=128, out_features=64, bias=True)\n",
       "  (fc3): Linear(in_features=64, out_features=10, bias=True)\n",
       ")"
      ]
     },
     "execution_count": 93,
     "metadata": {},
     "output_type": "execute_result"
    }
   ],
   "source": [
    "## Your solution here\n",
    "class MyNetwork(nn.Module):\n",
    "    def __init__(self):\n",
    "        super().__init__()\n",
    "        self.fc1 = nn.Linear(784, 128)\n",
    "        self.fc2 = nn.Linear(128, 64)\n",
    "        self.fc3 = nn.Linear(64, 10)\n",
    "        \n",
    "    def forward(self, x):\n",
    "        # First hidden layer with relu activation\n",
    "        x = F.relu(self.fc1(x))\n",
    "        \n",
    "        # Second hidden layer with relu actication\n",
    "        x = F.relu(self.fc2(x))\n",
    "\n",
    "        # Output layer with softmax activation\n",
    "        x = F.softmax(self.fc3(x), dim=1)\n",
    "        \n",
    "        return x\n",
    "    \n",
    "model = MyNetwork()\n",
    "model"
   ]
  },
  {
   "cell_type": "markdown",
   "metadata": {},
   "source": [
    "### Initializing weights and biases\n",
    "\n",
    "The weights and such are automatically initialized for you, but it's possible to customize how they are initialized. The weights and biases are tensors attached to the layer you defined, you can get them with `model.fc1.weight` for instance."
   ]
  },
  {
   "cell_type": "code",
   "execution_count": 95,
   "metadata": {
    "tags": []
   },
   "outputs": [
    {
     "name": "stdout",
     "output_type": "stream",
     "text": [
      "Parameter containing:\n",
      "tensor([[-0.0199, -0.0021, -0.0059,  ...,  0.0239,  0.0206,  0.0275],\n",
      "        [-0.0193, -0.0056, -0.0089,  ...,  0.0281,  0.0145,  0.0160],\n",
      "        [ 0.0127,  0.0143, -0.0292,  ...,  0.0052,  0.0048, -0.0248],\n",
      "        ...,\n",
      "        [-0.0229, -0.0080,  0.0009,  ...,  0.0072,  0.0221,  0.0255],\n",
      "        [-0.0212, -0.0040, -0.0159,  ..., -0.0171,  0.0291,  0.0257],\n",
      "        [-0.0172,  0.0063, -0.0060,  ...,  0.0140, -0.0332,  0.0051]],\n",
      "       requires_grad=True)\n",
      "Parameter containing:\n",
      "tensor([-0.0201,  0.0325, -0.0215,  0.0069,  0.0006,  0.0292,  0.0198, -0.0010,\n",
      "        -0.0034, -0.0164, -0.0254, -0.0258,  0.0097,  0.0293,  0.0237, -0.0105,\n",
      "        -0.0333,  0.0104,  0.0059, -0.0209, -0.0250, -0.0226, -0.0183,  0.0119,\n",
      "         0.0260,  0.0325,  0.0162, -0.0154,  0.0086, -0.0201,  0.0141, -0.0070,\n",
      "         0.0331,  0.0284, -0.0210, -0.0105,  0.0351,  0.0134,  0.0350, -0.0281,\n",
      "        -0.0161,  0.0251, -0.0197,  0.0018, -0.0170,  0.0303, -0.0181,  0.0080,\n",
      "         0.0192, -0.0328, -0.0055, -0.0044, -0.0279, -0.0353, -0.0173, -0.0202,\n",
      "         0.0320, -0.0281,  0.0039,  0.0291,  0.0148,  0.0252,  0.0222,  0.0109,\n",
      "        -0.0305,  0.0046, -0.0113,  0.0105,  0.0127, -0.0292,  0.0322,  0.0108,\n",
      "         0.0180, -0.0323, -0.0193, -0.0284,  0.0014, -0.0253, -0.0289, -0.0183,\n",
      "         0.0043, -0.0005, -0.0168,  0.0245, -0.0305, -0.0249,  0.0032,  0.0108,\n",
      "         0.0053, -0.0082,  0.0160,  0.0297, -0.0015, -0.0316,  0.0270, -0.0167,\n",
      "        -0.0163,  0.0289,  0.0078, -0.0090,  0.0015,  0.0237,  0.0262, -0.0322,\n",
      "        -0.0098,  0.0101, -0.0161,  0.0001,  0.0087,  0.0340, -0.0104,  0.0144,\n",
      "         0.0322,  0.0133,  0.0274,  0.0071, -0.0146, -0.0345,  0.0020,  0.0175,\n",
      "         0.0347,  0.0138,  0.0240,  0.0148, -0.0273, -0.0309,  0.0208, -0.0119],\n",
      "       requires_grad=True)\n"
     ]
    }
   ],
   "source": [
    "print(model.fc1.weight)\n",
    "print(model.fc1.bias)"
   ]
  },
  {
   "cell_type": "markdown",
   "metadata": {},
   "source": [
    "For custom initialization, we want to modify these tensors in place. These are actually autograd *Variables*, so we need to get back the actual tensors with `model.fc1.weight.data`. Once we have the tensors, we can fill them with zeros (for biases) or random normal values."
   ]
  },
  {
   "cell_type": "code",
   "execution_count": 101,
   "metadata": {
    "tags": []
   },
   "outputs": [
    {
     "data": {
      "text/plain": [
       "tensor([0., 0., 0., 0., 0., 0., 0., 0., 0., 0., 0., 0., 0., 0., 0., 0., 0., 0., 0., 0., 0., 0., 0., 0.,\n",
       "        0., 0., 0., 0., 0., 0., 0., 0., 0., 0., 0., 0., 0., 0., 0., 0., 0., 0., 0., 0., 0., 0., 0., 0.,\n",
       "        0., 0., 0., 0., 0., 0., 0., 0., 0., 0., 0., 0., 0., 0., 0., 0., 0., 0., 0., 0., 0., 0., 0., 0.,\n",
       "        0., 0., 0., 0., 0., 0., 0., 0., 0., 0., 0., 0., 0., 0., 0., 0., 0., 0., 0., 0., 0., 0., 0., 0.,\n",
       "        0., 0., 0., 0., 0., 0., 0., 0., 0., 0., 0., 0., 0., 0., 0., 0., 0., 0., 0., 0., 0., 0., 0., 0.,\n",
       "        0., 0., 0., 0., 0., 0., 0., 0.])"
      ]
     },
     "execution_count": 101,
     "metadata": {},
     "output_type": "execute_result"
    }
   ],
   "source": [
    "# Set biases to all zeros\n",
    "model.fc1.bias.data.fill_(0)"
   ]
  },
  {
   "cell_type": "code",
   "execution_count": 113,
   "metadata": {
    "tags": []
   },
   "outputs": [
    {
     "data": {
      "text/plain": [
       "tensor([[-0.0155,  0.0079, -0.0048,  ...,  0.0101,  0.0061,  0.0150],\n",
       "        [ 0.0039,  0.0278,  0.0060,  ...,  0.0049,  0.0161,  0.0006],\n",
       "        [-0.0262, -0.0247,  0.0084,  ...,  0.0027, -0.0193, -0.0017],\n",
       "        ...,\n",
       "        [-0.0130,  0.0105,  0.0194,  ...,  0.0011,  0.0012, -0.0090],\n",
       "        [ 0.0122,  0.0127,  0.0016,  ..., -0.0112, -0.0091,  0.0043],\n",
       "        [-0.0006, -0.0039, -0.0016,  ..., -0.0067,  0.0217, -0.0229]])"
      ]
     },
     "execution_count": 113,
     "metadata": {},
     "output_type": "execute_result"
    }
   ],
   "source": [
    "# sample from random normal with standard dev = 0.01\n",
    "model.fc1.weight.data.normal_(std=0.01)"
   ]
  },
  {
   "cell_type": "markdown",
   "metadata": {},
   "source": [
    "### Forward pass\n",
    "\n",
    "Now that we have a network, let's see what happens when we pass in an image."
   ]
  },
  {
   "cell_type": "code",
   "execution_count": 117,
   "metadata": {
    "tags": []
   },
   "outputs": [
    {
     "ename": "AttributeError",
     "evalue": "'_SingleProcessDataLoaderIter' object has no attribute 'next'",
     "output_type": "error",
     "traceback": [
      "\u001b[0;31m---------------------------------------------------------------------------\u001b[0m",
      "\u001b[0;31mAttributeError\u001b[0m                            Traceback (most recent call last)",
      "Cell \u001b[0;32mIn[117], line 3\u001b[0m\n\u001b[1;32m      1\u001b[0m \u001b[38;5;66;03m# Grab some data \u001b[39;00m\n\u001b[1;32m      2\u001b[0m dataiter \u001b[38;5;241m=\u001b[39m \u001b[38;5;28miter\u001b[39m(trainloader)\n\u001b[0;32m----> 3\u001b[0m images, labels \u001b[38;5;241m=\u001b[39m dataiter\u001b[38;5;241m.\u001b[39mnext()\n\u001b[1;32m      5\u001b[0m \u001b[38;5;66;03m# Resize images into a 1D vector, new shape is (batch size, color channels, image pixels) \u001b[39;00m\n\u001b[1;32m      6\u001b[0m images\u001b[38;5;241m.\u001b[39mresize_(\u001b[38;5;241m64\u001b[39m, \u001b[38;5;241m1\u001b[39m, \u001b[38;5;241m784\u001b[39m)\n",
      "\u001b[0;31mAttributeError\u001b[0m: '_SingleProcessDataLoaderIter' object has no attribute 'next'"
     ]
    }
   ],
   "source": [
    "# Grab some data \n",
    "dataiter = iter(trainloader)\n",
    "images, labels = dataiter.next()\n",
    "\n",
    "# Resize images into a 1D vector, new shape is (batch size, color channels, image pixels) \n",
    "images.resize_(64, 1, 784)\n",
    "# or images.resize_(images.shape[0], 1, 784) to automatically get batch size\n",
    "\n",
    "# Forward pass through the network\n",
    "img_idx = 0\n",
    "ps = model.forward(images[img_idx,:])\n",
    "\n",
    "img = images[img_idx]\n",
    "helper.view_classify(img.view(1, 28, 28), ps)"
   ]
  },
  {
   "cell_type": "markdown",
   "metadata": {},
   "source": [
    "As you can see above, our network has basically no idea what this digit is. It's because we haven't trained it yet, all the weights are random!\n",
    "\n",
    "### Using `nn.Sequential`\n",
    "\n",
    "PyTorch provides a convenient way to build networks like this where a tensor is passed sequentially through operations, `nn.Sequential` ([documentation](https://pytorch.org/docs/master/nn.html#torch.nn.Sequential)). Using this to build the equivalent network:"
   ]
  },
  {
   "cell_type": "code",
   "execution_count": 129,
   "metadata": {
    "tags": []
   },
   "outputs": [
    {
     "name": "stdout",
     "output_type": "stream",
     "text": [
      "Sequential(\n",
      "  (0): Linear(in_features=784, out_features=128, bias=True)\n",
      "  (1): ReLU()\n",
      "  (2): Linear(in_features=128, out_features=64, bias=True)\n",
      "  (3): ReLU()\n",
      "  (4): Linear(in_features=64, out_features=10, bias=True)\n",
      "  (5): Softmax(dim=1)\n",
      ")\n"
     ]
    },
    {
     "data": {
      "image/png": "[encoded data removed]",
      "text/plain": [
       "<Figure size 600x900 with 2 Axes>"
      ]
     },
     "metadata": {
      "image/png": {
       "height": 327,
       "width": 589
      }
     },
     "output_type": "display_data"
    }
   ],
   "source": [
    "# Hyperparameters for our network\n",
    "input_size = 784\n",
    "hidden_sizes = [128, 64]\n",
    "output_size = 10\n",
    "\n",
    "# Build a feed-forward network\n",
    "model = nn.Sequential(nn.Linear(input_size, hidden_sizes[0]),\n",
    "                      nn.ReLU(),\n",
    "                      nn.Linear(hidden_sizes[0], hidden_sizes[1]),\n",
    "                      nn.ReLU(),\n",
    "                      nn.Linear(hidden_sizes[1], output_size),\n",
    "                      nn.Softmax(dim=1))\n",
    "print(model)\n",
    "\n",
    "# Forward pass through the network and display output\n",
    "images, labels = next(iter(trainloader))\n",
    "images.resize_(images.shape[0], 1, 784)\n",
    "ps = model.forward(images[0,:])\n",
    "helper.view_classify(images[0].view(1, 28, 28), ps)"
   ]
  },
  {
   "cell_type": "markdown",
   "metadata": {},
   "source": [
    "Here our model is the same as before: 784 input units, a hidden layer with 128 units, ReLU activation, 64 unit hidden layer, another ReLU, then the output layer with 10 units, and the softmax output.\n",
    "\n",
    "The operations are available by passing in the appropriate index. For example, if you want to get first Linear operation and look at the weights, you'd use `model[0]`."
   ]
  },
  {
   "cell_type": "code",
   "execution_count": 121,
   "metadata": {
    "tags": []
   },
   "outputs": [
    {
     "name": "stdout",
     "output_type": "stream",
     "text": [
      "Linear(in_features=784, out_features=128, bias=True)\n"
     ]
    },
    {
     "data": {
      "text/plain": [
       "Parameter containing:\n",
       "tensor([[-1.5715e-02,  1.5000e-02, -3.3304e-02,  ..., -1.5672e-03,\n",
       "         -1.7216e-02,  3.4493e-02],\n",
       "        [ 2.2346e-02,  1.3797e-02,  3.6734e-03,  ...,  1.9707e-03,\n",
       "          3.5508e-03,  1.7150e-02],\n",
       "        [-2.1879e-02,  2.7940e-02,  2.2469e-02,  ...,  5.1456e-05,\n",
       "          3.4758e-02, -1.4620e-03],\n",
       "        ...,\n",
       "        [-3.0535e-02,  2.8652e-02, -2.5350e-02,  ...,  5.1426e-04,\n",
       "         -2.0928e-02, -2.5621e-02],\n",
       "        [-6.6067e-03,  2.4886e-02, -1.8784e-02,  ...,  3.4765e-03,\n",
       "         -2.3279e-03,  8.1247e-03],\n",
       "        [ 1.5773e-02,  2.0390e-02, -1.8356e-02,  ..., -1.6511e-03,\n",
       "         -2.9666e-02,  7.2893e-03]], requires_grad=True)"
      ]
     },
     "execution_count": 121,
     "metadata": {},
     "output_type": "execute_result"
    }
   ],
   "source": [
    "print(model[0])\n",
    "model[0].weight"
   ]
  },
  {
   "cell_type": "markdown",
   "metadata": {},
   "source": [
    "You can also pass in an `OrderedDict` to name the individual layers and operations, instead of using incremental integers. Note that dictionary keys must be unique, so _each operation must have a different name_."
   ]
  },
  {
   "cell_type": "code",
   "execution_count": 123,
   "metadata": {
    "tags": []
   },
   "outputs": [
    {
     "data": {
      "text/plain": [
       "Sequential(\n",
       "  (fc1): Linear(in_features=784, out_features=128, bias=True)\n",
       "  (relu1): ReLU()\n",
       "  (fc2): Linear(in_features=128, out_features=64, bias=True)\n",
       "  (relu2): ReLU()\n",
       "  (output): Linear(in_features=64, out_features=10, bias=True)\n",
       "  (softmax): Softmax(dim=1)\n",
       ")"
      ]
     },
     "execution_count": 123,
     "metadata": {},
     "output_type": "execute_result"
    }
   ],
   "source": [
    "from collections import OrderedDict\n",
    "model = nn.Sequential(OrderedDict([\n",
    "                      ('fc1', nn.Linear(input_size, hidden_sizes[0])),\n",
    "                      ('relu1', nn.ReLU()),\n",
    "                      ('fc2', nn.Linear(hidden_sizes[0], hidden_sizes[1])),\n",
    "                      ('relu2', nn.ReLU()),\n",
    "                      ('output', nn.Linear(hidden_sizes[1], output_size)),\n",
    "                      ('softmax', nn.Softmax(dim=1))]))\n",
    "model"
   ]
  },
  {
   "cell_type": "markdown",
   "metadata": {},
   "source": [
    "Now you can access layers either by integer or the name"
   ]
  },
  {
   "cell_type": "code",
   "execution_count": 125,
   "metadata": {
    "tags": []
   },
   "outputs": [
    {
     "name": "stdout",
     "output_type": "stream",
     "text": [
      "Linear(in_features=784, out_features=128, bias=True)\n",
      "Linear(in_features=784, out_features=128, bias=True)\n"
     ]
    }
   ],
   "source": [
    "print(model[0])\n",
    "print(model.fc1)"
   ]
  },
  {
   "cell_type": "markdown",
   "metadata": {},
   "source": [
    "In the next notebook, we'll see how we can train a neural network to accuractly predict the numbers appearing in the MNIST images."
   ]
  }
 ],
 "metadata": {
  "kernelspec": {
   "display_name": "Python 3 (ipykernel)",
   "language": "python",
   "name": "python3"
  },
  "language_info": {
   "codemirror_mode": {
    "name": "ipython",
    "version": 3
   },
   "file_extension": ".py",
   "mimetype": "text/x-python",
   "name": "python",
   "nbconvert_exporter": "python",
   "pygments_lexer": "ipython3",
   "version": "3.11.7"
  }
 },
 "nbformat": 4,
 "nbformat_minor": 4
}
